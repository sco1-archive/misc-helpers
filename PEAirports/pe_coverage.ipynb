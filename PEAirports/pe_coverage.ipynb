{
 "cells": [
  {
   "cell_type": "code",
   "execution_count": 40,
   "metadata": {},
   "outputs": [],
   "source": [
    "import json\n",
    "import re\n",
    "\n",
    "import requests\n",
    "from bs4 import BeautifulSoup\n",
    "\n",
    "\n",
    "def cleanJSON(in_json: str) -> dict:\n",
    "    \"\"\"\n",
    "    Extract airport information from JS variables in PE's coverage map\n",
    "    \n",
    "    re match groups:\n",
    "      0. Airport Code\n",
    "      1. Airport Name\n",
    "      2. Airport Class\n",
    "      3. Coverage Area\n",
    "    \"\"\"\n",
    "    \n",
    "    description_re = r\"<strong>(\\w+)</strong>\\s+-\\s+([\\w\\s\\-\\/]+)\\(Class\\s+(\\w)\\s+-\\s+([\\w\\s]+)\\)\"\n",
    "    \n",
    "    airport_json = {}\n",
    "    for airport in in_json:\n",
    "        match = re.findall(description_re, airport['description'])[0]\n",
    "\n",
    "        airport_json[match[0]] = {\n",
    "            'long_name': match[1].strip(),\n",
    "            'class': match[2],\n",
    "            'coverage_area': match[3],\n",
    "            'latitude': airport['lat'],\n",
    "            'longitude': airport['lng']\n",
    "        }\n",
    "        \n",
    "    return airport_json\n",
    "\n",
    "def airports_from_map() -> dict:\n",
    "    \"\"\"\n",
    "    Scrape the PE coverage map and return a dictionary of airport information\n",
    "    \"\"\"\n",
    "\n",
    "    PE_MAP_URL = r\"https://www.pilotedge.net/map/coverage\"\n",
    "\n",
    "    r = requests.get(PE_MAP_URL)\n",
    "    map_vars = re.findall(r\"Gmaps.map.markers = (.*)\", r.text)[0]\n",
    "    raw_json = json.loads(map_vars[:-1])  # Skip trailing semicolon\n",
    "\n",
    "    return cleanJSON(raw_json)"
   ]
  },
  {
   "cell_type": "code",
   "execution_count": 52,
   "metadata": {},
   "outputs": [],
   "source": [
    "def _cached_has_d_atis(airports: dict) -> dict:\n",
    "    \"\"\"\n",
    "    Populate airports dictionary with D-ATIS status from PE's D-ATIS coverage JSON\n",
    "    \"\"\"\n",
    "    \n",
    "    ATIS_STATUS_URL = r\"https://www.pilotedge.net/atis/airports.json\"\n",
    "    \n",
    "    atis_coverage_json = requests.get(ATIS_STATUS_URL).json()\n",
    "    atis_coverage = {airport['icao']:airport['has_d_atis'] for airport in atis_coverage_json}\n",
    "    \n",
    "    for airport in airports:\n",
    "        try:\n",
    "            airports[airport]['has_d_atis'] = atis_coverage[airport]\n",
    "        except KeyError:\n",
    "            airports[airport]['has_d_atis'] = False\n",
    "        \n",
    "    return airports"
   ]
  },
  {
   "cell_type": "code",
   "execution_count": 54,
   "metadata": {},
   "outputs": [],
   "source": [
    "airport_coverage = airports_from_map()\n",
    "airport_coverage = _cached_has_d_atis(airport_coverage)\n",
    "\n",
    "with open('PE_Airports.json', 'w') as f:\n",
    "    json.dump(airport_coverage, f, indent=4)"
   ]
  }
 ],
 "metadata": {
  "kernelspec": {
   "display_name": "Python 3",
   "language": "python",
   "name": "python3"
  },
  "language_info": {
   "codemirror_mode": {
    "name": "ipython",
    "version": 3
   },
   "file_extension": ".py",
   "mimetype": "text/x-python",
   "name": "python",
   "nbconvert_exporter": "python",
   "pygments_lexer": "ipython3",
   "version": "3.7.0"
  }
 },
 "nbformat": 4,
 "nbformat_minor": 2
}
